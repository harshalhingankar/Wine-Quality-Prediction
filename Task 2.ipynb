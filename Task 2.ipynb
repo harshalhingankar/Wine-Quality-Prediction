{
 "cells": [
  {
   "cell_type": "code",
   "execution_count": 8,
   "id": "c431f0ba",
   "metadata": {},
   "outputs": [],
   "source": [
    "import numpy as np\n",
    "import pandas as pd\n",
    "import matplotlib.pyplot as plt"
   ]
  },
  {
   "cell_type": "code",
   "execution_count": 9,
   "id": "477c3c9b",
   "metadata": {},
   "outputs": [],
   "source": [
    "df=pd.read_csv(\"WineQT.csv\")"
   ]
  },
  {
   "cell_type": "code",
   "execution_count": 10,
   "id": "d605f4f7",
   "metadata": {},
   "outputs": [
    {
     "data": {
      "text/html": [
       "<div>\n",
       "<style scoped>\n",
       "    .dataframe tbody tr th:only-of-type {\n",
       "        vertical-align: middle;\n",
       "    }\n",
       "\n",
       "    .dataframe tbody tr th {\n",
       "        vertical-align: top;\n",
       "    }\n",
       "\n",
       "    .dataframe thead th {\n",
       "        text-align: right;\n",
       "    }\n",
       "</style>\n",
       "<table border=\"1\" class=\"dataframe\">\n",
       "  <thead>\n",
       "    <tr style=\"text-align: right;\">\n",
       "      <th></th>\n",
       "      <th>fixed acidity</th>\n",
       "      <th>volatile acidity</th>\n",
       "      <th>citric acid</th>\n",
       "      <th>residual sugar</th>\n",
       "      <th>chlorides</th>\n",
       "      <th>free sulfur dioxide</th>\n",
       "      <th>total sulfur dioxide</th>\n",
       "      <th>density</th>\n",
       "      <th>pH</th>\n",
       "      <th>sulphates</th>\n",
       "      <th>alcohol</th>\n",
       "      <th>quality</th>\n",
       "      <th>Id</th>\n",
       "    </tr>\n",
       "  </thead>\n",
       "  <tbody>\n",
       "    <tr>\n",
       "      <th>0</th>\n",
       "      <td>7.4</td>\n",
       "      <td>0.700</td>\n",
       "      <td>0.00</td>\n",
       "      <td>1.9</td>\n",
       "      <td>0.076</td>\n",
       "      <td>11.0</td>\n",
       "      <td>34.0</td>\n",
       "      <td>0.99780</td>\n",
       "      <td>3.51</td>\n",
       "      <td>0.56</td>\n",
       "      <td>9.4</td>\n",
       "      <td>5</td>\n",
       "      <td>0</td>\n",
       "    </tr>\n",
       "    <tr>\n",
       "      <th>1</th>\n",
       "      <td>7.8</td>\n",
       "      <td>0.880</td>\n",
       "      <td>0.00</td>\n",
       "      <td>2.6</td>\n",
       "      <td>0.098</td>\n",
       "      <td>25.0</td>\n",
       "      <td>67.0</td>\n",
       "      <td>0.99680</td>\n",
       "      <td>3.20</td>\n",
       "      <td>0.68</td>\n",
       "      <td>9.8</td>\n",
       "      <td>5</td>\n",
       "      <td>1</td>\n",
       "    </tr>\n",
       "    <tr>\n",
       "      <th>2</th>\n",
       "      <td>7.8</td>\n",
       "      <td>0.760</td>\n",
       "      <td>0.04</td>\n",
       "      <td>2.3</td>\n",
       "      <td>0.092</td>\n",
       "      <td>15.0</td>\n",
       "      <td>54.0</td>\n",
       "      <td>0.99700</td>\n",
       "      <td>3.26</td>\n",
       "      <td>0.65</td>\n",
       "      <td>9.8</td>\n",
       "      <td>5</td>\n",
       "      <td>2</td>\n",
       "    </tr>\n",
       "    <tr>\n",
       "      <th>3</th>\n",
       "      <td>11.2</td>\n",
       "      <td>0.280</td>\n",
       "      <td>0.56</td>\n",
       "      <td>1.9</td>\n",
       "      <td>0.075</td>\n",
       "      <td>17.0</td>\n",
       "      <td>60.0</td>\n",
       "      <td>0.99800</td>\n",
       "      <td>3.16</td>\n",
       "      <td>0.58</td>\n",
       "      <td>9.8</td>\n",
       "      <td>6</td>\n",
       "      <td>3</td>\n",
       "    </tr>\n",
       "    <tr>\n",
       "      <th>4</th>\n",
       "      <td>7.4</td>\n",
       "      <td>0.700</td>\n",
       "      <td>0.00</td>\n",
       "      <td>1.9</td>\n",
       "      <td>0.076</td>\n",
       "      <td>11.0</td>\n",
       "      <td>34.0</td>\n",
       "      <td>0.99780</td>\n",
       "      <td>3.51</td>\n",
       "      <td>0.56</td>\n",
       "      <td>9.4</td>\n",
       "      <td>5</td>\n",
       "      <td>4</td>\n",
       "    </tr>\n",
       "    <tr>\n",
       "      <th>...</th>\n",
       "      <td>...</td>\n",
       "      <td>...</td>\n",
       "      <td>...</td>\n",
       "      <td>...</td>\n",
       "      <td>...</td>\n",
       "      <td>...</td>\n",
       "      <td>...</td>\n",
       "      <td>...</td>\n",
       "      <td>...</td>\n",
       "      <td>...</td>\n",
       "      <td>...</td>\n",
       "      <td>...</td>\n",
       "      <td>...</td>\n",
       "    </tr>\n",
       "    <tr>\n",
       "      <th>1138</th>\n",
       "      <td>6.3</td>\n",
       "      <td>0.510</td>\n",
       "      <td>0.13</td>\n",
       "      <td>2.3</td>\n",
       "      <td>0.076</td>\n",
       "      <td>29.0</td>\n",
       "      <td>40.0</td>\n",
       "      <td>0.99574</td>\n",
       "      <td>3.42</td>\n",
       "      <td>0.75</td>\n",
       "      <td>11.0</td>\n",
       "      <td>6</td>\n",
       "      <td>1592</td>\n",
       "    </tr>\n",
       "    <tr>\n",
       "      <th>1139</th>\n",
       "      <td>6.8</td>\n",
       "      <td>0.620</td>\n",
       "      <td>0.08</td>\n",
       "      <td>1.9</td>\n",
       "      <td>0.068</td>\n",
       "      <td>28.0</td>\n",
       "      <td>38.0</td>\n",
       "      <td>0.99651</td>\n",
       "      <td>3.42</td>\n",
       "      <td>0.82</td>\n",
       "      <td>9.5</td>\n",
       "      <td>6</td>\n",
       "      <td>1593</td>\n",
       "    </tr>\n",
       "    <tr>\n",
       "      <th>1140</th>\n",
       "      <td>6.2</td>\n",
       "      <td>0.600</td>\n",
       "      <td>0.08</td>\n",
       "      <td>2.0</td>\n",
       "      <td>0.090</td>\n",
       "      <td>32.0</td>\n",
       "      <td>44.0</td>\n",
       "      <td>0.99490</td>\n",
       "      <td>3.45</td>\n",
       "      <td>0.58</td>\n",
       "      <td>10.5</td>\n",
       "      <td>5</td>\n",
       "      <td>1594</td>\n",
       "    </tr>\n",
       "    <tr>\n",
       "      <th>1141</th>\n",
       "      <td>5.9</td>\n",
       "      <td>0.550</td>\n",
       "      <td>0.10</td>\n",
       "      <td>2.2</td>\n",
       "      <td>0.062</td>\n",
       "      <td>39.0</td>\n",
       "      <td>51.0</td>\n",
       "      <td>0.99512</td>\n",
       "      <td>3.52</td>\n",
       "      <td>0.76</td>\n",
       "      <td>11.2</td>\n",
       "      <td>6</td>\n",
       "      <td>1595</td>\n",
       "    </tr>\n",
       "    <tr>\n",
       "      <th>1142</th>\n",
       "      <td>5.9</td>\n",
       "      <td>0.645</td>\n",
       "      <td>0.12</td>\n",
       "      <td>2.0</td>\n",
       "      <td>0.075</td>\n",
       "      <td>32.0</td>\n",
       "      <td>44.0</td>\n",
       "      <td>0.99547</td>\n",
       "      <td>3.57</td>\n",
       "      <td>0.71</td>\n",
       "      <td>10.2</td>\n",
       "      <td>5</td>\n",
       "      <td>1597</td>\n",
       "    </tr>\n",
       "  </tbody>\n",
       "</table>\n",
       "<p>1143 rows × 13 columns</p>\n",
       "</div>"
      ],
      "text/plain": [
       "      fixed acidity  volatile acidity  citric acid  residual sugar  chlorides  \\\n",
       "0               7.4             0.700         0.00             1.9      0.076   \n",
       "1               7.8             0.880         0.00             2.6      0.098   \n",
       "2               7.8             0.760         0.04             2.3      0.092   \n",
       "3              11.2             0.280         0.56             1.9      0.075   \n",
       "4               7.4             0.700         0.00             1.9      0.076   \n",
       "...             ...               ...          ...             ...        ...   \n",
       "1138            6.3             0.510         0.13             2.3      0.076   \n",
       "1139            6.8             0.620         0.08             1.9      0.068   \n",
       "1140            6.2             0.600         0.08             2.0      0.090   \n",
       "1141            5.9             0.550         0.10             2.2      0.062   \n",
       "1142            5.9             0.645         0.12             2.0      0.075   \n",
       "\n",
       "      free sulfur dioxide  total sulfur dioxide  density    pH  sulphates  \\\n",
       "0                    11.0                  34.0  0.99780  3.51       0.56   \n",
       "1                    25.0                  67.0  0.99680  3.20       0.68   \n",
       "2                    15.0                  54.0  0.99700  3.26       0.65   \n",
       "3                    17.0                  60.0  0.99800  3.16       0.58   \n",
       "4                    11.0                  34.0  0.99780  3.51       0.56   \n",
       "...                   ...                   ...      ...   ...        ...   \n",
       "1138                 29.0                  40.0  0.99574  3.42       0.75   \n",
       "1139                 28.0                  38.0  0.99651  3.42       0.82   \n",
       "1140                 32.0                  44.0  0.99490  3.45       0.58   \n",
       "1141                 39.0                  51.0  0.99512  3.52       0.76   \n",
       "1142                 32.0                  44.0  0.99547  3.57       0.71   \n",
       "\n",
       "      alcohol  quality    Id  \n",
       "0         9.4        5     0  \n",
       "1         9.8        5     1  \n",
       "2         9.8        5     2  \n",
       "3         9.8        6     3  \n",
       "4         9.4        5     4  \n",
       "...       ...      ...   ...  \n",
       "1138     11.0        6  1592  \n",
       "1139      9.5        6  1593  \n",
       "1140     10.5        5  1594  \n",
       "1141     11.2        6  1595  \n",
       "1142     10.2        5  1597  \n",
       "\n",
       "[1143 rows x 13 columns]"
      ]
     },
     "execution_count": 10,
     "metadata": {},
     "output_type": "execute_result"
    }
   ],
   "source": [
    "df"
   ]
  },
  {
   "cell_type": "code",
   "execution_count": 11,
   "id": "318d0cff",
   "metadata": {},
   "outputs": [
    {
     "name": "stdout",
     "output_type": "stream",
     "text": [
      "<class 'pandas.core.frame.DataFrame'>\n",
      "RangeIndex: 1143 entries, 0 to 1142\n",
      "Data columns (total 13 columns):\n",
      " #   Column                Non-Null Count  Dtype  \n",
      "---  ------                --------------  -----  \n",
      " 0   fixed acidity         1143 non-null   float64\n",
      " 1   volatile acidity      1143 non-null   float64\n",
      " 2   citric acid           1143 non-null   float64\n",
      " 3   residual sugar        1143 non-null   float64\n",
      " 4   chlorides             1143 non-null   float64\n",
      " 5   free sulfur dioxide   1143 non-null   float64\n",
      " 6   total sulfur dioxide  1143 non-null   float64\n",
      " 7   density               1143 non-null   float64\n",
      " 8   pH                    1143 non-null   float64\n",
      " 9   sulphates             1143 non-null   float64\n",
      " 10  alcohol               1143 non-null   float64\n",
      " 11  quality               1143 non-null   int64  \n",
      " 12  Id                    1143 non-null   int64  \n",
      "dtypes: float64(11), int64(2)\n",
      "memory usage: 116.2 KB\n"
     ]
    }
   ],
   "source": [
    "df.info()"
   ]
  },
  {
   "cell_type": "code",
   "execution_count": 12,
   "id": "127a47cb",
   "metadata": {},
   "outputs": [
    {
     "data": {
      "text/plain": [
       "fixed acidity           0\n",
       "volatile acidity        0\n",
       "citric acid             0\n",
       "residual sugar          0\n",
       "chlorides               0\n",
       "free sulfur dioxide     0\n",
       "total sulfur dioxide    0\n",
       "density                 0\n",
       "pH                      0\n",
       "sulphates               0\n",
       "alcohol                 0\n",
       "quality                 0\n",
       "Id                      0\n",
       "dtype: int64"
      ]
     },
     "execution_count": 12,
     "metadata": {},
     "output_type": "execute_result"
    }
   ],
   "source": [
    "df.isna().sum()"
   ]
  },
  {
   "cell_type": "markdown",
   "id": "98caaf74",
   "metadata": {},
   "source": [
    "## Data Preprocessing"
   ]
  },
  {
   "cell_type": "code",
   "execution_count": 13,
   "id": "724858a7",
   "metadata": {},
   "outputs": [],
   "source": [
    "X=df.iloc[:,0:11].values"
   ]
  },
  {
   "cell_type": "code",
   "execution_count": 14,
   "id": "e994ea60",
   "metadata": {},
   "outputs": [
    {
     "data": {
      "text/plain": [
       "array([[ 7.4  ,  0.7  ,  0.   , ...,  3.51 ,  0.56 ,  9.4  ],\n",
       "       [ 7.8  ,  0.88 ,  0.   , ...,  3.2  ,  0.68 ,  9.8  ],\n",
       "       [ 7.8  ,  0.76 ,  0.04 , ...,  3.26 ,  0.65 ,  9.8  ],\n",
       "       ...,\n",
       "       [ 6.2  ,  0.6  ,  0.08 , ...,  3.45 ,  0.58 , 10.5  ],\n",
       "       [ 5.9  ,  0.55 ,  0.1  , ...,  3.52 ,  0.76 , 11.2  ],\n",
       "       [ 5.9  ,  0.645,  0.12 , ...,  3.57 ,  0.71 , 10.2  ]])"
      ]
     },
     "execution_count": 14,
     "metadata": {},
     "output_type": "execute_result"
    }
   ],
   "source": [
    "X"
   ]
  },
  {
   "cell_type": "code",
   "execution_count": 15,
   "id": "bd527a49",
   "metadata": {},
   "outputs": [],
   "source": [
    "y=df.iloc[:,-2].values"
   ]
  },
  {
   "cell_type": "code",
   "execution_count": 16,
   "id": "95243e09",
   "metadata": {},
   "outputs": [
    {
     "data": {
      "text/plain": [
       "array([5, 5, 5, ..., 5, 6, 5], dtype=int64)"
      ]
     },
     "execution_count": 16,
     "metadata": {},
     "output_type": "execute_result"
    }
   ],
   "source": [
    "y"
   ]
  },
  {
   "cell_type": "markdown",
   "id": "414274da",
   "metadata": {},
   "source": [
    "## Spliting the Dataset"
   ]
  },
  {
   "cell_type": "code",
   "execution_count": 17,
   "id": "a9d3edb1",
   "metadata": {},
   "outputs": [],
   "source": [
    "from sklearn.model_selection import train_test_split"
   ]
  },
  {
   "cell_type": "code",
   "execution_count": 18,
   "id": "f8504351",
   "metadata": {},
   "outputs": [],
   "source": [
    "X_train,X_test,y_train,y_test=train_test_split(X,y,random_state=1,test_size=0.2)"
   ]
  },
  {
   "cell_type": "code",
   "execution_count": 19,
   "id": "1372f7a1",
   "metadata": {},
   "outputs": [
    {
     "data": {
      "text/plain": [
       "array([[ 7.8       ,  0.87      ,  0.26      , ...,  3.26      ,\n",
       "         0.46      ,  9.2       ],\n",
       "       [ 6.9       ,  0.84      ,  0.21      , ...,  3.53      ,\n",
       "         0.72      ,  9.23333333],\n",
       "       [ 7.2       ,  0.635     ,  0.07      , ...,  3.51      ,\n",
       "         0.54      ,  9.7       ],\n",
       "       ...,\n",
       "       [ 6.6       ,  0.56      ,  0.14      , ...,  3.42      ,\n",
       "         0.62      , 11.7       ],\n",
       "       [ 8.4       ,  0.56      ,  0.08      , ...,  3.13      ,\n",
       "         0.52      , 11.        ],\n",
       "       [ 6.8       ,  0.68      ,  0.21      , ...,  3.38      ,\n",
       "         0.6       , 10.3       ]])"
      ]
     },
     "execution_count": 19,
     "metadata": {},
     "output_type": "execute_result"
    }
   ],
   "source": [
    "X_train"
   ]
  },
  {
   "cell_type": "code",
   "execution_count": 20,
   "id": "95982094",
   "metadata": {},
   "outputs": [
    {
     "data": {
      "text/plain": [
       "array([5, 6, 5, 6, 6, 5, 6, 5, 5, 5, 7, 5, 5, 6, 6, 6, 6, 5, 7, 7, 6, 6,\n",
       "       5, 5, 6, 6, 6, 5, 6, 6, 6, 5, 6, 7, 6, 5, 6, 5, 5, 5, 6, 6, 6, 8,\n",
       "       7, 5, 6, 5, 5, 7, 5, 6, 5, 5, 6, 6, 5, 5, 6, 5, 5, 4, 6, 5, 6, 7,\n",
       "       6, 7, 6, 5, 5, 5, 7, 5, 6, 5, 6, 7, 5, 5, 6, 6, 5, 6, 6, 4, 5, 6,\n",
       "       6, 6, 7, 6, 5, 6, 6, 5, 6, 6, 8, 6, 5, 6, 7, 6, 6, 6, 5, 6, 5, 7,\n",
       "       5, 6, 6, 6, 6, 6, 4, 7, 5, 6, 5, 5, 6, 7, 5, 5, 5, 5, 6, 6, 6, 5,\n",
       "       3, 5, 7, 5, 6, 5, 6, 5, 6, 6, 6, 6, 5, 5, 6, 6, 6, 5, 5, 5, 7, 5,\n",
       "       5, 5, 6, 7, 5, 7, 5, 7, 5, 6, 6, 6, 8, 6, 6, 5, 6, 5, 6, 7, 5, 5,\n",
       "       5, 6, 6, 5, 6, 6, 6, 4, 6, 5, 5, 6, 5, 5, 7, 6, 6, 5, 7, 5, 6, 7,\n",
       "       5, 5, 6, 5, 5, 5, 6, 5, 5, 5, 7, 6, 7, 8, 5, 5, 4, 5, 5, 6, 5, 7,\n",
       "       5, 6, 5, 7, 5, 6, 6, 6, 6, 6, 6, 8, 5, 6, 5, 5, 5, 5, 6, 4, 5, 5,\n",
       "       7, 5, 5, 6, 6, 5, 5, 5, 7, 6, 5, 6, 6, 8, 6, 5, 6, 6, 6, 5, 5, 7,\n",
       "       5, 5, 6, 6, 6, 7, 5, 5, 6, 6, 5, 5, 5, 6, 5, 5, 5, 6, 5, 5, 7, 6,\n",
       "       6, 6, 7, 5, 5, 5, 4, 5, 5, 6, 7, 5, 6, 5, 6, 4, 6, 5, 6, 5, 6, 5,\n",
       "       7, 5, 6, 6, 5, 5, 6, 6, 5, 5, 5, 6, 6, 6, 5, 6, 6, 7, 6, 6, 6, 7,\n",
       "       6, 7, 4, 6, 5, 5, 7, 5, 6, 5, 5, 6, 6, 6, 6, 5, 6, 5, 6, 5, 5, 6,\n",
       "       5, 4, 6, 5, 5, 6, 5, 5, 5, 4, 5, 6, 5, 6, 5, 5, 5, 7, 6, 6, 7, 5,\n",
       "       6, 5, 5, 7, 5, 5, 5, 6, 3, 5, 5, 6, 7, 5, 5, 7, 6, 7, 6, 5, 6, 7,\n",
       "       5, 6, 4, 6, 5, 5, 5, 6, 6, 6, 6, 7, 5, 5, 6, 6, 4, 7, 7, 6, 5, 6,\n",
       "       6, 5, 6, 7, 6, 7, 7, 5, 8, 5, 6, 6, 4, 6, 6, 5, 6, 6, 6, 6, 6, 7,\n",
       "       5, 5, 5, 5, 6, 4, 6, 5, 6, 5, 6, 6, 7, 6, 5, 7, 5, 5, 8, 5, 5, 5,\n",
       "       7, 7, 6, 5, 5, 4, 5, 5, 7, 7, 5, 6, 6, 5, 4, 6, 5, 7, 6, 3, 6, 6,\n",
       "       5, 5, 6, 5, 7, 6, 5, 6, 6, 6, 5, 6, 7, 6, 7, 6, 5, 6, 5, 6, 6, 5,\n",
       "       6, 4, 5, 6, 5, 7, 5, 5, 6, 5, 7, 5, 6, 5, 7, 6, 5, 6, 5, 6, 5, 5,\n",
       "       5, 5, 6, 6, 5, 6, 6, 5, 5, 6, 6, 6, 5, 5, 6, 5, 6, 6, 6, 6, 6, 5,\n",
       "       5, 6, 6, 6, 5, 4, 5, 5, 6, 4, 6, 5, 6, 6, 5, 6, 6, 7, 5, 4, 6, 5,\n",
       "       5, 6, 5, 6, 5, 6, 5, 6, 7, 6, 5, 5, 5, 5, 6, 5, 6, 6, 6, 6, 5, 6,\n",
       "       5, 5, 6, 5, 6, 5, 6, 6, 6, 6, 4, 6, 5, 7, 7, 5, 5, 5, 5, 5, 6, 6,\n",
       "       5, 7, 5, 7, 6, 5, 5, 5, 5, 6, 5, 5, 5, 6, 7, 7, 7, 5, 6, 7, 6, 6,\n",
       "       5, 5, 5, 7, 7, 5, 5, 5, 6, 6, 5, 6, 6, 5, 5, 5, 5, 5, 6, 5, 6, 5,\n",
       "       6, 5, 5, 6, 5, 5, 5, 6, 6, 7, 6, 7, 5, 6, 4, 5, 6, 6, 5, 5, 6, 5,\n",
       "       7, 7, 4, 5, 6, 3, 5, 5, 5, 5, 5, 6, 5, 5, 5, 5, 6, 6, 4, 6, 7, 6,\n",
       "       5, 5, 5, 5, 6, 5, 7, 7, 5, 6, 7, 6, 5, 5, 5, 5, 6, 5, 6, 7, 5, 6,\n",
       "       6, 6, 6, 7, 8, 5, 6, 6, 5, 6, 6, 4, 6, 5, 5, 4, 5, 4, 7, 5, 5, 6,\n",
       "       6, 5, 7, 6, 5, 6, 7, 5, 7, 6, 5, 6, 6, 5, 5, 5, 6, 6, 5, 5, 5, 7,\n",
       "       6, 5, 5, 5, 5, 6, 6, 4, 7, 6, 5, 5, 5, 5, 6, 5, 5, 3, 7, 6, 7, 5,\n",
       "       5, 6, 7, 6, 5, 5, 6, 5, 6, 5, 6, 6, 5, 6, 7, 6, 6, 6, 5, 5, 5, 5,\n",
       "       7, 5, 6, 6, 6, 7, 5, 4, 7, 5, 5, 5, 5, 5, 5, 5, 5, 5, 6, 7, 6, 6,\n",
       "       5, 6, 6, 6, 8, 5, 6, 6, 6, 5, 6, 6, 6, 6, 6, 5, 6, 6, 5, 6, 6, 6,\n",
       "       6, 6, 5, 6, 5, 6, 3, 6, 6, 5, 5, 5, 6, 5, 7, 6, 5, 6, 5, 5, 5, 5,\n",
       "       7, 6, 5, 7, 6, 6, 5, 6, 7, 7, 6, 6, 7, 6, 7, 5, 6, 7, 7, 7, 6, 5,\n",
       "       7, 5, 6, 5, 6, 6, 6, 5, 6, 7, 5, 5], dtype=int64)"
      ]
     },
     "execution_count": 20,
     "metadata": {},
     "output_type": "execute_result"
    }
   ],
   "source": [
    "y_train"
   ]
  },
  {
   "cell_type": "code",
   "execution_count": 21,
   "id": "bdaf9588",
   "metadata": {},
   "outputs": [
    {
     "data": {
      "text/plain": [
       "array([[ 9.3  ,  0.48 ,  0.29 , ...,  3.22 ,  0.72 , 11.2  ],\n",
       "       [ 7.1  ,  0.34 ,  0.28 , ...,  3.45 ,  0.48 ,  9.4  ],\n",
       "       [ 7.7  ,  0.26 ,  0.26 , ...,  3.15 ,  0.79 , 10.9  ],\n",
       "       ...,\n",
       "       [13.5  ,  0.53 ,  0.79 , ...,  3.18 ,  0.77 , 13.   ],\n",
       "       [ 8.6  ,  0.635,  0.68 , ...,  3.02 ,  1.15 ,  9.3  ],\n",
       "       [ 7.4  ,  0.36 ,  0.29 , ...,  3.39 ,  0.68 , 11.   ]])"
      ]
     },
     "execution_count": 21,
     "metadata": {},
     "output_type": "execute_result"
    }
   ],
   "source": [
    "X_test"
   ]
  },
  {
   "cell_type": "code",
   "execution_count": 22,
   "id": "9d4721bd",
   "metadata": {},
   "outputs": [
    {
     "data": {
      "text/plain": [
       "array([5, 5, 6, 6, 6, 8, 5, 6, 6, 5, 6, 5, 5, 5, 6, 6, 6, 5, 5, 5, 5, 6,\n",
       "       5, 5, 6, 6, 6, 7, 6, 6, 5, 6, 7, 5, 5, 5, 6, 7, 5, 5, 7, 6, 6, 5,\n",
       "       6, 6, 6, 5, 5, 4, 5, 5, 5, 5, 4, 5, 5, 5, 5, 5, 6, 6, 5, 5, 5, 5,\n",
       "       5, 5, 6, 4, 6, 6, 5, 6, 5, 5, 5, 6, 5, 5, 5, 5, 6, 6, 7, 6, 5, 6,\n",
       "       6, 6, 6, 6, 7, 7, 6, 5, 7, 6, 6, 5, 6, 7, 5, 7, 5, 6, 6, 5, 5, 6,\n",
       "       5, 6, 6, 5, 8, 7, 6, 5, 6, 7, 5, 5, 8, 6, 5, 6, 5, 6, 5, 5, 5, 5,\n",
       "       5, 6, 6, 8, 5, 5, 6, 5, 6, 5, 7, 5, 6, 6, 6, 6, 6, 6, 6, 5, 5, 5,\n",
       "       6, 6, 6, 5, 6, 6, 5, 6, 5, 5, 5, 5, 5, 6, 6, 7, 7, 6, 5, 7, 6, 6,\n",
       "       6, 6, 6, 7, 6, 7, 6, 7, 5, 6, 7, 6, 5, 7, 6, 6, 5, 6, 7, 7, 6, 5,\n",
       "       5, 5, 6, 5, 6, 5, 5, 7, 5, 6, 6, 6, 7, 5, 5, 5, 8, 7, 6, 6, 6, 7,\n",
       "       6, 6, 5, 6, 8, 7, 5, 5, 5], dtype=int64)"
      ]
     },
     "execution_count": 22,
     "metadata": {},
     "output_type": "execute_result"
    }
   ],
   "source": [
    "y_test"
   ]
  },
  {
   "cell_type": "markdown",
   "id": "f9150e89",
   "metadata": {},
   "source": [
    "## Feature Scaling"
   ]
  },
  {
   "cell_type": "code",
   "execution_count": 23,
   "id": "f161e94a",
   "metadata": {},
   "outputs": [],
   "source": [
    "from sklearn.preprocessing import StandardScaler\n",
    "sc=StandardScaler()\n",
    "X_train=sc.fit_transform(X_train)\n",
    "X_test=sc.transform(X_test)"
   ]
  },
  {
   "cell_type": "code",
   "execution_count": 24,
   "id": "1138a5a5",
   "metadata": {},
   "outputs": [
    {
     "data": {
      "text/plain": [
       "array([[-0.30460654,  1.87097777, -0.04774805, ..., -0.32076213,\n",
       "        -1.13151047, -1.15913596],\n",
       "       [-0.82456781,  1.7057506 , -0.30356117, ...,  1.42741982,\n",
       "         0.34632491, -1.12785375],\n",
       "       [-0.65124739,  0.57669826, -1.01983792, ...,  1.29792486,\n",
       "        -0.67679189, -0.6899028 ],\n",
       "       ...,\n",
       "       [-0.99788823,  0.16363034, -0.66169955, ...,  0.71519754,\n",
       "        -0.22207331,  1.18702983],\n",
       "       [ 0.04203431,  0.16363034, -0.96867529, ..., -1.16247937,\n",
       "        -0.79047154,  0.53010341],\n",
       "       [-0.88234128,  0.82453902, -0.30356117, ...,  0.45620763,\n",
       "        -0.33575296, -0.12682301]])"
      ]
     },
     "execution_count": 24,
     "metadata": {},
     "output_type": "execute_result"
    }
   ],
   "source": [
    "X_train"
   ]
  },
  {
   "cell_type": "code",
   "execution_count": 25,
   "id": "cf4b9374",
   "metadata": {},
   "outputs": [
    {
     "data": {
      "text/plain": [
       "array([[ 5.61995584e-01, -2.76975453e-01,  1.05739823e-01, ...,\n",
       "        -5.79752051e-01,  3.46324914e-01,  7.17796675e-01],\n",
       "       [-7.09020860e-01, -1.04803559e+00,  5.45771980e-02, ...,\n",
       "         9.09439984e-01, -1.01783083e+00, -9.71442695e-01],\n",
       "       [-3.62380012e-01, -1.48864137e+00, -4.77480511e-02, ...,\n",
       "        -1.03298441e+00,  7.44203672e-01,  4.36256780e-01],\n",
       "       ...,\n",
       "       [ 2.98848152e+00, -1.59683444e-03,  2.66387105e+00, ...,\n",
       "        -8.38741970e-01,  6.30524027e-01,  2.40703605e+00],\n",
       "       [ 1.57581261e-01,  5.76698265e-01,  2.10108218e+00, ...,\n",
       "        -1.87470165e+00,  2.79043728e+00, -1.06528933e+00],\n",
       "       [-5.35700436e-01, -9.37884138e-01,  1.05739823e-01, ...,\n",
       "         5.20955105e-01,  1.18965624e-01,  5.30103412e-01]])"
      ]
     },
     "execution_count": 25,
     "metadata": {},
     "output_type": "execute_result"
    }
   ],
   "source": [
    "X_test"
   ]
  },
  {
   "cell_type": "markdown",
   "id": "381777e7",
   "metadata": {},
   "source": [
    "## Linear Regression"
   ]
  },
  {
   "cell_type": "code",
   "execution_count": 26,
   "id": "4a13b5dd",
   "metadata": {},
   "outputs": [],
   "source": [
    "from sklearn.linear_model import LinearRegression"
   ]
  },
  {
   "cell_type": "code",
   "execution_count": 27,
   "id": "cc042181",
   "metadata": {},
   "outputs": [],
   "source": [
    "reg=LinearRegression()"
   ]
  },
  {
   "cell_type": "code",
   "execution_count": 28,
   "id": "38112cc4",
   "metadata": {},
   "outputs": [
    {
     "data": {
      "text/html": [
       "<style>#sk-container-id-1 {color: black;background-color: white;}#sk-container-id-1 pre{padding: 0;}#sk-container-id-1 div.sk-toggleable {background-color: white;}#sk-container-id-1 label.sk-toggleable__label {cursor: pointer;display: block;width: 100%;margin-bottom: 0;padding: 0.3em;box-sizing: border-box;text-align: center;}#sk-container-id-1 label.sk-toggleable__label-arrow:before {content: \"▸\";float: left;margin-right: 0.25em;color: #696969;}#sk-container-id-1 label.sk-toggleable__label-arrow:hover:before {color: black;}#sk-container-id-1 div.sk-estimator:hover label.sk-toggleable__label-arrow:before {color: black;}#sk-container-id-1 div.sk-toggleable__content {max-height: 0;max-width: 0;overflow: hidden;text-align: left;background-color: #f0f8ff;}#sk-container-id-1 div.sk-toggleable__content pre {margin: 0.2em;color: black;border-radius: 0.25em;background-color: #f0f8ff;}#sk-container-id-1 input.sk-toggleable__control:checked~div.sk-toggleable__content {max-height: 200px;max-width: 100%;overflow: auto;}#sk-container-id-1 input.sk-toggleable__control:checked~label.sk-toggleable__label-arrow:before {content: \"▾\";}#sk-container-id-1 div.sk-estimator input.sk-toggleable__control:checked~label.sk-toggleable__label {background-color: #d4ebff;}#sk-container-id-1 div.sk-label input.sk-toggleable__control:checked~label.sk-toggleable__label {background-color: #d4ebff;}#sk-container-id-1 input.sk-hidden--visually {border: 0;clip: rect(1px 1px 1px 1px);clip: rect(1px, 1px, 1px, 1px);height: 1px;margin: -1px;overflow: hidden;padding: 0;position: absolute;width: 1px;}#sk-container-id-1 div.sk-estimator {font-family: monospace;background-color: #f0f8ff;border: 1px dotted black;border-radius: 0.25em;box-sizing: border-box;margin-bottom: 0.5em;}#sk-container-id-1 div.sk-estimator:hover {background-color: #d4ebff;}#sk-container-id-1 div.sk-parallel-item::after {content: \"\";width: 100%;border-bottom: 1px solid gray;flex-grow: 1;}#sk-container-id-1 div.sk-label:hover label.sk-toggleable__label {background-color: #d4ebff;}#sk-container-id-1 div.sk-serial::before {content: \"\";position: absolute;border-left: 1px solid gray;box-sizing: border-box;top: 0;bottom: 0;left: 50%;z-index: 0;}#sk-container-id-1 div.sk-serial {display: flex;flex-direction: column;align-items: center;background-color: white;padding-right: 0.2em;padding-left: 0.2em;position: relative;}#sk-container-id-1 div.sk-item {position: relative;z-index: 1;}#sk-container-id-1 div.sk-parallel {display: flex;align-items: stretch;justify-content: center;background-color: white;position: relative;}#sk-container-id-1 div.sk-item::before, #sk-container-id-1 div.sk-parallel-item::before {content: \"\";position: absolute;border-left: 1px solid gray;box-sizing: border-box;top: 0;bottom: 0;left: 50%;z-index: -1;}#sk-container-id-1 div.sk-parallel-item {display: flex;flex-direction: column;z-index: 1;position: relative;background-color: white;}#sk-container-id-1 div.sk-parallel-item:first-child::after {align-self: flex-end;width: 50%;}#sk-container-id-1 div.sk-parallel-item:last-child::after {align-self: flex-start;width: 50%;}#sk-container-id-1 div.sk-parallel-item:only-child::after {width: 0;}#sk-container-id-1 div.sk-dashed-wrapped {border: 1px dashed gray;margin: 0 0.4em 0.5em 0.4em;box-sizing: border-box;padding-bottom: 0.4em;background-color: white;}#sk-container-id-1 div.sk-label label {font-family: monospace;font-weight: bold;display: inline-block;line-height: 1.2em;}#sk-container-id-1 div.sk-label-container {text-align: center;}#sk-container-id-1 div.sk-container {/* jupyter's `normalize.less` sets `[hidden] { display: none; }` but bootstrap.min.css set `[hidden] { display: none !important; }` so we also need the `!important` here to be able to override the default hidden behavior on the sphinx rendered scikit-learn.org. See: https://github.com/scikit-learn/scikit-learn/issues/21755 */display: inline-block !important;position: relative;}#sk-container-id-1 div.sk-text-repr-fallback {display: none;}</style><div id=\"sk-container-id-1\" class=\"sk-top-container\"><div class=\"sk-text-repr-fallback\"><pre>LinearRegression()</pre><b>In a Jupyter environment, please rerun this cell to show the HTML representation or trust the notebook. <br />On GitHub, the HTML representation is unable to render, please try loading this page with nbviewer.org.</b></div><div class=\"sk-container\" hidden><div class=\"sk-item\"><div class=\"sk-estimator sk-toggleable\"><input class=\"sk-toggleable__control sk-hidden--visually\" id=\"sk-estimator-id-1\" type=\"checkbox\" checked><label for=\"sk-estimator-id-1\" class=\"sk-toggleable__label sk-toggleable__label-arrow\">LinearRegression</label><div class=\"sk-toggleable__content\"><pre>LinearRegression()</pre></div></div></div></div></div>"
      ],
      "text/plain": [
       "LinearRegression()"
      ]
     },
     "execution_count": 28,
     "metadata": {},
     "output_type": "execute_result"
    }
   ],
   "source": [
    "reg.fit(X_train, y_train)"
   ]
  },
  {
   "cell_type": "markdown",
   "id": "2e38ef6a",
   "metadata": {},
   "source": [
    "## predicting"
   ]
  },
  {
   "cell_type": "code",
   "execution_count": 29,
   "id": "bf38ed8b",
   "metadata": {},
   "outputs": [],
   "source": [
    "y_pred=reg.predict(X_test)"
   ]
  },
  {
   "cell_type": "markdown",
   "id": "fcb4c116",
   "metadata": {},
   "source": [
    "## Model Evalution"
   ]
  },
  {
   "cell_type": "code",
   "execution_count": 30,
   "id": "a22385ab",
   "metadata": {},
   "outputs": [],
   "source": [
    "from sklearn.metrics import r2_score"
   ]
  },
  {
   "cell_type": "code",
   "execution_count": 31,
   "id": "0d18f9c5",
   "metadata": {},
   "outputs": [],
   "source": [
    "score=r2_score(y_test,y_pred)"
   ]
  },
  {
   "cell_type": "code",
   "execution_count": 32,
   "id": "db402187",
   "metadata": {},
   "outputs": [
    {
     "data": {
      "text/plain": [
       "0.41275153908903295"
      ]
     },
     "execution_count": 32,
     "metadata": {},
     "output_type": "execute_result"
    }
   ],
   "source": [
    "score"
   ]
  },
  {
   "cell_type": "code",
   "execution_count": 33,
   "id": "6066436b",
   "metadata": {},
   "outputs": [
    {
     "name": "stdout",
     "output_type": "stream",
     "text": [
      "0.4084574691968683\n",
      "0.41275153908903295\n",
      "0.3747080755867165\n",
      "0.40098736958142767\n",
      "0.3851632938255729\n",
      "0.28688937452446595\n",
      "0.3510195931427794\n",
      "0.3290187168479566\n",
      "0.380794639457126\n",
      "0.27357901777155735\n"
     ]
    }
   ],
   "source": [
    "scores=[]\n",
    "for i in range(10):\n",
    "        X_train,X_test,y_train,y_test=train_test_split(X,y,random_state=i,test_size=0.2)  \n",
    "        sc=StandardScaler()\n",
    "        X_train=sc.fit_transform(X_train)\n",
    "        X_test=sc.transform(X_test)\n",
    "        reg=LinearRegression()\n",
    "        reg.fit(X_train, y_train)\n",
    "        y_pred=reg.predict(X_test)\n",
    "        print(r2_score(y_test,y_pred))"
   ]
  },
  {
   "cell_type": "code",
   "execution_count": 36,
   "id": "23d15464",
   "metadata": {},
   "outputs": [],
   "source": [
    "import seaborn as sns \n"
   ]
  },
  {
   "cell_type": "code",
   "execution_count": 37,
   "id": "b3c4f35a",
   "metadata": {},
   "outputs": [
    {
     "data": {
      "text/plain": [
       "<seaborn.axisgrid.FacetGrid at 0x1941d7db490>"
      ]
     },
     "execution_count": 37,
     "metadata": {},
     "output_type": "execute_result"
    },
    {
     "data": {
      "image/png": "[encoded data removed]",
      "text/plain": [
       "<Figure size 500x500 with 1 Axes>"
      ]
     },
     "metadata": {},
     "output_type": "display_data"
    }
   ],
   "source": [
    "sns.relplot(x='alcohol',y='quality',data=df)"
   ]
  },
  {
   "cell_type": "code",
   "execution_count": 39,
   "id": "41854895",
   "metadata": {},
   "outputs": [
    {
     "data": {
      "text/plain": [
       "<seaborn.axisgrid.FacetGrid at 0x19419907e80>"
      ]
     },
     "execution_count": 39,
     "metadata": {},
     "output_type": "execute_result"
    },
    {
     "data": {
      "image/png": "[encoded data removed]",
      "text/plain": [
       "<Figure size 598.75x500 with 1 Axes>"
      ]
     },
     "metadata": {},
     "output_type": "display_data"
    }
   ],
   "source": [
    "sns.relplot(x='alcohol',y='quality',hue='density',data=df)"
   ]
  },
  {
   "cell_type": "code",
   "execution_count": 41,
   "id": "ccd010bf",
   "metadata": {},
   "outputs": [
    {
     "data": {
      "text/plain": [
       "<seaborn.axisgrid.FacetGrid at 0x1941e3815d0>"
      ]
     },
     "execution_count": 41,
     "metadata": {},
     "output_type": "execute_result"
    },
    {
     "data": {
      "image/png": "[encoded data removed]",
      "text/plain": [
       "<Figure size 598.75x500 with 1 Axes>"
      ]
     },
     "metadata": {},
     "output_type": "display_data"
    }
   ],
   "source": [
    "sns.catplot(x='alcohol',y='quality',hue='density',kind='violi',data=df)"
   ]
  },
  {
   "cell_type": "code",
   "execution_count": null,
   "id": "2b37a66f",
   "metadata": {},
   "outputs": [],
   "source": []
  }
 ],
 "metadata": {
  "kernelspec": {
   "display_name": "Python 3 (ipykernel)",
   "language": "python",
   "name": "python3"
  },
  "language_info": {
   "codemirror_mode": {
    "name": "ipython",
    "version": 3
   },
   "file_extension": ".py",
   "mimetype": "text/x-python",
   "name": "python",
   "nbconvert_exporter": "python",
   "pygments_lexer": "ipython3",
   "version": "3.10.9"
  }
 },
 "nbformat": 4,
 "nbformat_minor": 5
}
